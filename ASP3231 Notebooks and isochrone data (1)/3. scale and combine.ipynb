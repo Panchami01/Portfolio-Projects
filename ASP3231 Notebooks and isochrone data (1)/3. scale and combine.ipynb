{
 "cells": [
  {
   "cell_type": "markdown",
   "id": "forbidden-scope",
   "metadata": {},
   "source": [
    "# Scaling & Combining"
   ]
  },
  {
   "cell_type": "code",
   "execution_count": 9,
   "id": "revised-divorce",
   "metadata": {},
   "outputs": [],
   "source": [
    "import numpy as np\n",
    "import astropy\n",
    "import ccdproc\n",
    "from ccdproc import CCDData, Combiner\n",
    "from astropy import units as u\n",
    "from astropy.visualization import SqrtStretch\n",
    "import matplotlib.pyplot as plt \n",
    "from matplotlib.colors import LogNorm\n",
    "from photutils import centroid_com, centroid_1dg, centroid_2dg\n",
    "from photutils import CircularAperture\n",
    "from photutils import aperture_photometry\n",
    "from photutils import Background2D\n",
    "from photutils import MedianBackground\n",
    "from scipy.ndimage import shift\n",
    "import gc                                                           \n",
    "gc.enable()"
   ]
  },
  {
   "cell_type": "markdown",
   "id": "introductory-siemens",
   "metadata": {},
   "source": [
    "### <font color=purple> _Staring with V band_"
   ]
  },
  {
   "cell_type": "code",
   "execution_count": 14,
   "id": "hydraulic-helicopter",
   "metadata": {
    "scrolled": true
   },
   "outputs": [
    {
     "name": "stderr",
     "output_type": "stream",
     "text": [
      "INFO:astropy:using the unit adu passed to the FITS reader instead of the unit adu in the FITS file.\n",
      "WARNING: FITSFixedWarning: 'obsfix' made the change 'Set OBSGEO-X to -4130881.901 from OBSGEO-[LBH].\n",
      "Set OBSGEO-Y to  2896022.315 from OBSGEO-[LBH].\n",
      "Set OBSGEO-Z to -3889419.901 from OBSGEO-[LBH]'. [astropy.wcs.wcs]\n",
      "WARNING:astropy:FITSFixedWarning: 'obsfix' made the change 'Set OBSGEO-X to -4130881.901 from OBSGEO-[LBH].\n",
      "Set OBSGEO-Y to  2896022.315 from OBSGEO-[LBH].\n",
      "Set OBSGEO-Z to -3889419.901 from OBSGEO-[LBH]'.\n"
     ]
    },
    {
     "name": "stdout",
     "output_type": "stream",
     "text": [
      "INFO: using the unit adu passed to the FITS reader instead of the unit adu in the FITS file. [astropy.nddata.ccddata]\n"
     ]
    },
    {
     "name": "stderr",
     "output_type": "stream",
     "text": [
      "INFO:astropy:using the unit adu passed to the FITS reader instead of the unit adu in the FITS file.\n"
     ]
    },
    {
     "name": "stdout",
     "output_type": "stream",
     "text": [
      "INFO: using the unit adu passed to the FITS reader instead of the unit adu in the FITS file. [astropy.nddata.ccddata]\n"
     ]
    },
    {
     "name": "stderr",
     "output_type": "stream",
     "text": [
      "INFO:astropy:using the unit adu passed to the FITS reader instead of the unit adu in the FITS file.\n"
     ]
    },
    {
     "name": "stdout",
     "output_type": "stream",
     "text": [
      "INFO: using the unit adu passed to the FITS reader instead of the unit adu in the FITS file. [astropy.nddata.ccddata]\n"
     ]
    },
    {
     "name": "stderr",
     "output_type": "stream",
     "text": [
      "INFO:astropy:using the unit adu passed to the FITS reader instead of the unit adu in the FITS file.\n",
      "INFO:astropy:using the unit adu passed to the FITS reader instead of the unit adu in the FITS file.\n"
     ]
    },
    {
     "name": "stdout",
     "output_type": "stream",
     "text": [
      "INFO: using the unit adu passed to the FITS reader instead of the unit adu in the FITS file. [astropy.nddata.ccddata]\n",
      "INFO: using the unit adu passed to the FITS reader instead of the unit adu in the FITS file. [astropy.nddata.ccddata]\n"
     ]
    },
    {
     "name": "stderr",
     "output_type": "stream",
     "text": [
      "INFO:astropy:using the unit adu passed to the FITS reader instead of the unit adu in the FITS file.\n"
     ]
    },
    {
     "name": "stdout",
     "output_type": "stream",
     "text": [
      "INFO: using the unit adu passed to the FITS reader instead of the unit adu in the FITS file. [astropy.nddata.ccddata]\n",
      "INFO"
     ]
    },
    {
     "name": "stderr",
     "output_type": "stream",
     "text": [
      "INFO:astropy:using the unit adu passed to the FITS reader instead of the unit adu in the FITS file.\n"
     ]
    },
    {
     "name": "stdout",
     "output_type": "stream",
     "text": [
      ": using the unit adu passed to the FITS reader instead of the unit adu in the FITS file. [astropy.nddata.ccddata]\n"
     ]
    },
    {
     "name": "stderr",
     "output_type": "stream",
     "text": [
      "INFO:astropy:using the unit adu passed to the FITS reader instead of the unit adu in the FITS file.\n"
     ]
    },
    {
     "name": "stdout",
     "output_type": "stream",
     "text": [
      "INFO: using the unit adu passed to the FITS reader instead of the unit adu in the FITS file. [astropy.nddata.ccddata]\n"
     ]
    },
    {
     "name": "stderr",
     "output_type": "stream",
     "text": [
      "INFO:astropy:using the unit adu passed to the FITS reader instead of the unit adu in the FITS file.\n"
     ]
    },
    {
     "name": "stdout",
     "output_type": "stream",
     "text": [
      "INFO: using the unit adu passed to the FITS reader instead of the unit adu in the FITS file. [astropy.nddata.ccddata]\n"
     ]
    },
    {
     "name": "stderr",
     "output_type": "stream",
     "text": [
      "INFO:astropy:using the unit adu passed to the FITS reader instead of the unit adu in the FITS file.\n",
      "INFO:astropy:using the unit adu passed to the FITS reader instead of the unit adu in the FITS file.\n"
     ]
    },
    {
     "name": "stdout",
     "output_type": "stream",
     "text": [
      "INFO: using the unit adu passed to the FITS reader instead of the unit adu in the FITS file. [astropy.nddata.ccddata]\n",
      "INFO: using the unit adu passed to the FITS reader instead of the unit adu in the FITS file. [astropy.nddata.ccddata]\n"
     ]
    },
    {
     "name": "stderr",
     "output_type": "stream",
     "text": [
      "INFO:astropy:using the unit adu passed to the FITS reader instead of the unit adu in the FITS file.\n",
      "INFO:astropy:using the unit adu passed to the FITS reader instead of the unit adu in the FITS file.\n"
     ]
    },
    {
     "name": "stdout",
     "output_type": "stream",
     "text": [
      "INFO: using the unit adu passed to the FITS reader instead of the unit adu in the FITS file. [astropy.nddata.ccddata]\n",
      "INFO: using the unit adu passed to the FITS reader instead of the unit adu in the FITS file. [astropy.nddata.ccddata]\n"
     ]
    },
    {
     "name": "stderr",
     "output_type": "stream",
     "text": [
      "INFO:astropy:using the unit adu passed to the FITS reader instead of the unit adu in the FITS file.\n",
      "INFO:astropy:using the unit adu passed to the FITS reader instead of the unit adu in the FITS file.\n"
     ]
    },
    {
     "name": "stdout",
     "output_type": "stream",
     "text": [
      "INFO: using the unit adu passed to the FITS reader instead of the unit adu in the FITS file. [astropy.nddata.ccddata]\n",
      "INFO: using the unit adu passed to the FITS reader instead of the unit adu in the FITS file. [astropy.nddata.ccddata]\n"
     ]
    },
    {
     "name": "stderr",
     "output_type": "stream",
     "text": [
      "INFO:astropy:using the unit adu passed to the FITS reader instead of the unit adu in the FITS file.\n"
     ]
    },
    {
     "name": "stdout",
     "output_type": "stream",
     "text": [
      "INFO: using the unit adu passed to the FITS reader instead of the unit adu in the FITS file. [astropy.nddata.ccddata]\n"
     ]
    },
    {
     "name": "stderr",
     "output_type": "stream",
     "text": [
      "INFO:astropy:using the unit adu passed to the FITS reader instead of the unit adu in the FITS file.\n",
      "INFO:astropy:using the unit adu passed to the FITS reader instead of the unit adu in the FITS file.\n"
     ]
    },
    {
     "name": "stdout",
     "output_type": "stream",
     "text": [
      "INFO: using the unit adu passed to the FITS reader instead of the unit adu in the FITS file. [astropy.nddata.ccddata]\n",
      "INFO: using the unit adu passed to the FITS reader instead of the unit adu in the FITS file. [astropy.nddata.ccddata]\n"
     ]
    },
    {
     "name": "stderr",
     "output_type": "stream",
     "text": [
      "INFO:astropy:using the unit adu passed to the FITS reader instead of the unit adu in the FITS file.\n",
      "INFO:astropy:using the unit adu passed to the FITS reader instead of the unit adu in the FITS file.\n"
     ]
    },
    {
     "name": "stdout",
     "output_type": "stream",
     "text": [
      "INFO: using the unit adu passed to the FITS reader instead of the unit adu in the FITS file. [astropy.nddata.ccddata]\n",
      "INFO: using the unit adu passed to the FITS reader instead of the unit adu in the FITS file. [astropy.nddata.ccddata]\n"
     ]
    },
    {
     "name": "stderr",
     "output_type": "stream",
     "text": [
      "INFO:astropy:using the unit adu passed to the FITS reader instead of the unit adu in the FITS file.\n"
     ]
    },
    {
     "name": "stdout",
     "output_type": "stream",
     "text": [
      "INFO: using the unit adu passed to the FITS reader instead of the unit adu in the FITS file. [astropy.nddata.ccddata]\n"
     ]
    },
    {
     "name": "stderr",
     "output_type": "stream",
     "text": [
      "INFO:astropy:using the unit adu passed to the FITS reader instead of the unit adu in the FITS file.\n"
     ]
    },
    {
     "name": "stdout",
     "output_type": "stream",
     "text": [
      "INFO: using the unit adu passed to the FITS reader instead of the unit adu in the FITS file. [astropy.nddata.ccddata]\n"
     ]
    },
    {
     "name": "stderr",
     "output_type": "stream",
     "text": [
      "INFO:astropy:using the unit adu passed to the FITS reader instead of the unit adu in the FITS file.\n"
     ]
    },
    {
     "name": "stdout",
     "output_type": "stream",
     "text": [
      "INFO: using the unit adu passed to the FITS reader instead of the unit adu in the FITS file. [astropy.nddata.ccddata]\n"
     ]
    },
    {
     "name": "stderr",
     "output_type": "stream",
     "text": [
      "INFO:astropy:using the unit adu passed to the FITS reader instead of the unit adu in the FITS file.\n"
     ]
    },
    {
     "name": "stdout",
     "output_type": "stream",
     "text": [
      "INFO: using the unit adu passed to the FITS reader instead of the unit adu in the FITS file. [astropy.nddata.ccddata]\n",
      "INFO"
     ]
    },
    {
     "name": "stderr",
     "output_type": "stream",
     "text": [
      "INFO:astropy:using the unit adu passed to the FITS reader instead of the unit adu in the FITS file.\n"
     ]
    },
    {
     "name": "stdout",
     "output_type": "stream",
     "text": [
      ": using the unit adu passed to the FITS reader instead of the unit adu in the FITS file. [astropy.nddata.ccddata]\n"
     ]
    },
    {
     "name": "stderr",
     "output_type": "stream",
     "text": [
      "INFO:astropy:using the unit adu passed to the FITS reader instead of the unit adu in the FITS file.\n",
      "INFO:astropy:using the unit adu passed to the FITS reader instead of the unit adu in the FITS file.\n"
     ]
    },
    {
     "name": "stdout",
     "output_type": "stream",
     "text": [
      "INFO: using the unit adu passed to the FITS reader instead of the unit adu in the FITS file. [astropy.nddata.ccddata]\n",
      "INFO: using the unit adu passed to the FITS reader instead of the unit adu in the FITS file. [astropy.nddata.ccddata]\n"
     ]
    },
    {
     "name": "stderr",
     "output_type": "stream",
     "text": [
      "INFO:astropy:using the unit adu passed to the FITS reader instead of the unit adu in the FITS file.\n"
     ]
    },
    {
     "name": "stdout",
     "output_type": "stream",
     "text": [
      "INFO: using the unit adu passed to the FITS reader instead of the unit adu in the FITS file. [astropy.nddata.ccddata]\n"
     ]
    },
    {
     "name": "stderr",
     "output_type": "stream",
     "text": [
      "INFO:astropy:using the unit adu passed to the FITS reader instead of the unit adu in the FITS file.\n"
     ]
    },
    {
     "name": "stdout",
     "output_type": "stream",
     "text": [
      "INFO: using the unit adu passed to the FITS reader instead of the unit adu in the FITS file. [astropy.nddata.ccddata]\n",
      "INFO: using the unit adu passed to the FITS reader instead of the unit adu in the FITS file. [astropy.nddata.ccddata]\n"
     ]
    },
    {
     "name": "stderr",
     "output_type": "stream",
     "text": [
      "INFO:astropy:using the unit adu passed to the FITS reader instead of the unit adu in the FITS file.\n"
     ]
    }
   ],
   "source": [
    "# collecting shifted V band images and reading \n",
    "images = ccdproc.ImageFileCollection(\".\",glob_include='proc_NGC_2808_V_*')\n",
    "scim = [CCDData.read(fn, unit = \"adu\") for fn in images.files_filtered(PICTTYPE = 1)]"
   ]
  },
  {
   "cell_type": "code",
   "execution_count": 16,
   "id": "acting-merchant",
   "metadata": {},
   "outputs": [],
   "source": [
    "# define the positions of some prominent stars in the image\n",
    "positions = [(859,998), (349,783), (675,787),(570,622), (1085,549), (1237,558)]   #x-y notation\n",
    "apertures = CircularAperture(positions, r=20.0)"
   ]
  },
  {
   "cell_type": "code",
   "execution_count": 17,
   "id": "tough-benefit",
   "metadata": {
    "scrolled": true
   },
   "outputs": [
    {
     "name": "stdout",
     "output_type": "stream",
     "text": [
      "0  id xcenter ycenter    aperture_sum    aperture_sum_err\n",
      "      pix     pix          adu               adu       \n",
      "--- ------- ------- ------------------ ----------------\n",
      "  1   859.0   998.0  1431732.213414641              0.0\n",
      "  2   349.0   783.0 1303607.0049587581              0.0\n",
      "  3   675.0   787.0 1391505.1374854224              0.0\n",
      "  4   570.0   622.0 1329839.5757741663              0.0\n",
      "  5  1085.0   549.0 2049014.4610751367              0.0\n",
      "  6  1237.0   558.0 1054799.2794533109              0.0\n",
      "1  id xcenter ycenter    aperture_sum    aperture_sum_err\n",
      "      pix     pix          adu               adu       \n",
      "--- ------- ------- ------------------ ----------------\n",
      "  1   859.0   998.0  1433276.040363774              0.0\n",
      "  2   349.0   783.0 1300709.0711159455              0.0\n",
      "  3   675.0   787.0 1388567.9142572442              0.0\n",
      "  4   570.0   622.0  1337878.586269509              0.0\n",
      "  5  1085.0   549.0  2056182.651859751              0.0\n",
      "  6  1237.0   558.0 1052773.6935873833              0.0\n",
      "2  id xcenter ycenter    aperture_sum    aperture_sum_err\n",
      "      pix     pix          adu               adu       \n",
      "--- ------- ------- ------------------ ----------------\n",
      "  1   859.0   998.0 1427565.1631073875              0.0\n",
      "  2   349.0   783.0  1298353.065652395              0.0\n",
      "  3   675.0   787.0 1383472.5718796458              0.0\n",
      "  4   570.0   622.0 1329097.6001298719              0.0\n",
      "  5  1085.0   549.0 1945184.5310719195              0.0\n",
      "  6  1237.0   558.0 1050697.5503332044              0.0\n",
      "3  id xcenter ycenter    aperture_sum    aperture_sum_err\n",
      "      pix     pix          adu               adu       \n",
      "--- ------- ------- ------------------ ----------------\n",
      "  1   859.0   998.0 1419693.8676788541              0.0\n",
      "  2   349.0   783.0 1288598.7427020066              0.0\n",
      "  3   675.0   787.0 1379751.9098625313              0.0\n",
      "  4   570.0   622.0 1322264.5037330487              0.0\n",
      "  5  1085.0   549.0 2029869.3618478766              0.0\n",
      "  6  1237.0   558.0 1040946.9382520744              0.0\n",
      "4  id xcenter ycenter    aperture_sum    aperture_sum_err\n",
      "      pix     pix          adu               adu       \n",
      "--- ------- ------- ------------------ ----------------\n",
      "  1   859.0   998.0 1420563.7862819973              0.0\n",
      "  2   349.0   783.0 1283360.8988367945              0.0\n",
      "  3   675.0   787.0 1374070.1209671744              0.0\n",
      "  4   570.0   622.0 1315230.6656504755              0.0\n",
      "  5  1085.0   549.0 2026521.2272977002              0.0\n",
      "  6  1237.0   558.0 1043152.9236269661              0.0\n",
      "5  id xcenter ycenter    aperture_sum    aperture_sum_err\n",
      "      pix     pix          adu               adu       \n",
      "--- ------- ------- ------------------ ----------------\n",
      "  1   859.0   998.0  1413400.029734856              0.0\n",
      "  2   349.0   783.0 1277774.9046404734              0.0\n",
      "  3   675.0   787.0  1362607.213351933              0.0\n",
      "  4   570.0   622.0 1304893.1701046228              0.0\n",
      "  5  1085.0   549.0  2016956.827361003              0.0\n",
      "  6  1237.0   558.0 1031998.3505012568              0.0\n",
      "6  id xcenter ycenter    aperture_sum    aperture_sum_err\n",
      "      pix     pix          adu               adu       \n",
      "--- ------- ------- ------------------ ----------------\n",
      "  1   859.0   998.0 1413944.5773596512              0.0\n",
      "  2   349.0   783.0 1277612.2862067474              0.0\n",
      "  3   675.0   787.0  1368652.138470769              0.0\n",
      "  4   570.0   622.0 1307631.6411703255              0.0\n",
      "  5  1085.0   549.0 1995171.2450602408              0.0\n",
      "  6  1237.0   558.0 1027951.8782724101              0.0\n",
      "7  id xcenter ycenter    aperture_sum    aperture_sum_err\n",
      "      pix     pix          adu               adu       \n",
      "--- ------- ------- ------------------ ----------------\n",
      "  1   859.0   998.0 1412350.5288878141              0.0\n",
      "  2   349.0   783.0 1279110.0502076806              0.0\n",
      "  3   675.0   787.0 1369281.5170724047              0.0\n",
      "  4   570.0   622.0 1308480.4424464637              0.0\n",
      "  5  1085.0   549.0  1927418.950067373              0.0\n",
      "  6  1237.0   558.0 1035533.4622964814              0.0\n",
      "8  id xcenter ycenter    aperture_sum    aperture_sum_err\n",
      "      pix     pix          adu               adu       \n",
      "--- ------- ------- ------------------ ----------------\n",
      "  1   859.0   998.0 1414392.8984343628              0.0\n",
      "  2   349.0   783.0 1282905.9572150116              0.0\n",
      "  3   675.0   787.0  1375827.104465976              0.0\n",
      "  4   570.0   622.0 1310044.3341866997              0.0\n",
      "  5  1085.0   549.0 2016098.7438355742              0.0\n",
      "  6  1237.0   558.0 1032568.9346497604              0.0\n",
      "9  id xcenter ycenter    aperture_sum    aperture_sum_err\n",
      "      pix     pix          adu               adu       \n",
      "--- ------- ------- ------------------ ----------------\n",
      "  1   859.0   998.0 1406547.6501674547              0.0\n",
      "  2   349.0   783.0  1276126.534472146              0.0\n",
      "  3   675.0   787.0 1364380.9758171407              0.0\n",
      "  4   570.0   622.0 1302645.0786263384              0.0\n",
      "  5  1085.0   549.0 2023418.6441771612              0.0\n",
      "  6  1237.0   558.0 1028554.3322824585              0.0\n",
      "10  id xcenter ycenter    aperture_sum    aperture_sum_err\n",
      "      pix     pix          adu               adu       \n",
      "--- ------- ------- ------------------ ----------------\n",
      "  1   859.0   998.0 1404567.0624441663              0.0\n",
      "  2   349.0   783.0 1276107.0295947625              0.0\n",
      "  3   675.0   787.0 1365421.4346163888              0.0\n",
      "  4   570.0   622.0  1302867.357710689              0.0\n",
      "  5  1085.0   549.0 2025149.1211332856              0.0\n",
      "  6  1237.0   558.0 1032097.3966045092              0.0\n",
      "11  id xcenter ycenter    aperture_sum    aperture_sum_err\n",
      "      pix     pix          adu               adu       \n",
      "--- ------- ------- ------------------ ----------------\n",
      "  1   859.0   998.0 1410201.8568211617              0.0\n",
      "  2   349.0   783.0 1280261.8464376838              0.0\n",
      "  3   675.0   787.0  1362907.622201119              0.0\n",
      "  4   570.0   622.0  1308807.413992583              0.0\n",
      "  5  1085.0   549.0  2028508.460932835              0.0\n",
      "  6  1237.0   558.0 1034360.9627548996              0.0\n",
      "12  id xcenter ycenter    aperture_sum    aperture_sum_err\n",
      "      pix     pix          adu               adu       \n",
      "--- ------- ------- ------------------ ----------------\n",
      "  1   859.0   998.0 1411295.9894603207              0.0\n",
      "  2   349.0   783.0  1280565.796020791              0.0\n",
      "  3   675.0   787.0 1364755.3032235797              0.0\n",
      "  4   570.0   622.0 1310057.8575591813              0.0\n",
      "  5  1085.0   549.0  2022760.222141462              0.0\n",
      "  6  1237.0   558.0 1035384.2042300608              0.0\n",
      "13  id xcenter ycenter    aperture_sum    aperture_sum_err\n",
      "      pix     pix          adu               adu       \n",
      "--- ------- ------- ------------------ ----------------\n",
      "  1   859.0   998.0 1296182.9464888046              0.0\n",
      "  2   349.0   783.0 1191025.1427446268              0.0\n",
      "  3   675.0   787.0 1267521.5969724364              0.0\n",
      "  4   570.0   622.0  1214033.525307521              0.0\n",
      "  5  1085.0   549.0  1815809.787387578              0.0\n",
      "  6  1237.0   558.0  969505.2650409922              0.0\n",
      "14  id xcenter ycenter    aperture_sum    aperture_sum_err\n",
      "      pix     pix          adu               adu       \n",
      "--- ------- ------- ------------------ ----------------\n",
      "  1   859.0   998.0 1277413.7412602464              0.0\n",
      "  2   349.0   783.0 1172081.3959472536              0.0\n",
      "  3   675.0   787.0 1245841.3353130277              0.0\n",
      "  4   570.0   622.0 1196649.9994193765              0.0\n",
      "  5  1085.0   549.0 1809716.5238232864              0.0\n",
      "  6  1237.0   558.0  949495.3675360263              0.0\n",
      "15  id xcenter ycenter    aperture_sum    aperture_sum_err\n",
      "      pix     pix          adu               adu       \n",
      "--- ------- ------- ------------------ ----------------\n",
      "  1   859.0   998.0 1267021.4061802023              0.0\n",
      "  2   349.0   783.0 1175996.8641326667              0.0\n",
      "  3   675.0   787.0 1247379.6080923278              0.0\n",
      "  4   570.0   622.0 1192270.5143466257              0.0\n",
      "  5  1085.0   549.0 1747209.8629104318              0.0\n",
      "  6  1237.0   558.0  965054.9446529374              0.0\n",
      "16  id xcenter ycenter    aperture_sum    aperture_sum_err\n",
      "      pix     pix          adu               adu       \n",
      "--- ------- ------- ------------------ ----------------\n",
      "  1   859.0   998.0 1263849.6488129285              0.0\n",
      "  2   349.0   783.0 1161272.5577975668              0.0\n",
      "  3   675.0   787.0 1234982.2562770536              0.0\n",
      "  4   570.0   622.0  1189016.431912497              0.0\n",
      "  5  1085.0   549.0  1740644.334038089              0.0\n",
      "  6  1237.0   558.0  951769.4865677415              0.0\n",
      "17  id xcenter ycenter    aperture_sum    aperture_sum_err\n",
      "      pix     pix          adu               adu       \n",
      "--- ------- ------- ------------------ ----------------\n",
      "  1   859.0   998.0 1255420.7703728979              0.0\n",
      "  2   349.0   783.0 1163455.1542277394              0.0\n",
      "  3   675.0   787.0 1230138.4046777254              0.0\n",
      "  4   570.0   622.0 1191609.7546866757              0.0\n",
      "  5  1085.0   549.0 1713595.4645346939              0.0\n",
      "  6  1237.0   558.0  966871.8471985064              0.0\n"
     ]
    },
    {
     "name": "stdout",
     "output_type": "stream",
     "text": [
      "18  id xcenter ycenter    aperture_sum    aperture_sum_err\n",
      "      pix     pix          adu               adu       \n",
      "--- ------- ------- ------------------ ----------------\n",
      "  1   859.0   998.0 1239023.7401090187              0.0\n",
      "  2   349.0   783.0   1150553.68474233              0.0\n",
      "  3   675.0   787.0 1213746.1918029343              0.0\n",
      "  4   570.0   622.0 1172384.9499017925              0.0\n",
      "  5  1085.0   549.0 1676783.9379572044              0.0\n",
      "  6  1237.0   558.0  952019.7218895289              0.0\n",
      "19  id xcenter ycenter    aperture_sum    aperture_sum_err\n",
      "      pix     pix          adu               adu       \n",
      "--- ------- ------- ------------------ ----------------\n",
      "  1   859.0   998.0 1202085.3013354642              0.0\n",
      "  2   349.0   783.0 1105008.2726931474              0.0\n",
      "  3   675.0   787.0 1174862.8489478456              0.0\n",
      "  4   570.0   622.0  1128248.165334804              0.0\n",
      "  5  1085.0   549.0 1681313.8898105947              0.0\n",
      "  6  1237.0   558.0   902703.435161736              0.0\n",
      "20  id xcenter ycenter    aperture_sum    aperture_sum_err\n",
      "      pix     pix          adu               adu       \n",
      "--- ------- ------- ------------------ ----------------\n",
      "  1   859.0   998.0 1191222.3723761877              0.0\n",
      "  2   349.0   783.0  1095884.026914177              0.0\n",
      "  3   675.0   787.0  1163098.621197899              0.0\n",
      "  4   570.0   622.0 1118536.8177858004              0.0\n",
      "  5  1085.0   549.0 1663839.1862304183              0.0\n",
      "  6  1237.0   558.0  900107.1823814405              0.0\n",
      "21  id xcenter ycenter    aperture_sum    aperture_sum_err\n",
      "      pix     pix          adu               adu       \n",
      "--- ------- ------- ------------------ ----------------\n",
      "  1   859.0   998.0 1180527.2516475408              0.0\n",
      "  2   349.0   783.0 1086465.0264491453              0.0\n",
      "  3   675.0   787.0 1149865.3223609636              0.0\n",
      "  4   570.0   622.0 1109551.4138502926              0.0\n",
      "  5  1085.0   549.0 1633292.4631636867              0.0\n",
      "  6  1237.0   558.0  888861.6981963686              0.0\n",
      "22  id xcenter ycenter    aperture_sum    aperture_sum_err\n",
      "      pix     pix          adu               adu       \n",
      "--- ------- ------- ------------------ ----------------\n",
      "  1   859.0   998.0  1361843.973751071              0.0\n",
      "  2   349.0   783.0 1253823.9306754053              0.0\n",
      "  3   675.0   787.0 1328571.8201182373              0.0\n",
      "  4   570.0   622.0  1286252.105178481              0.0\n",
      "  5  1085.0   549.0 1826001.6743505257              0.0\n",
      "  6  1237.0   558.0   1064931.84598111              0.0\n",
      "23  id xcenter ycenter    aperture_sum    aperture_sum_err\n",
      "      pix     pix          adu               adu       \n",
      "--- ------- ------- ------------------ ----------------\n",
      "  1   859.0   998.0 1366412.5885533693              0.0\n",
      "  2   349.0   783.0 1272947.4124117885              0.0\n",
      "  3   675.0   787.0 1338664.2628702868              0.0\n",
      "  4   570.0   622.0 1301058.9634883257              0.0\n",
      "  5  1085.0   549.0 1726640.3217401104              0.0\n",
      "  6  1237.0   558.0 1105060.2440245207              0.0\n",
      "24  id xcenter ycenter    aperture_sum    aperture_sum_err\n",
      "      pix     pix          adu               adu       \n",
      "--- ------- ------- ------------------ ----------------\n",
      "  1   859.0   998.0 1357808.1231417246              0.0\n",
      "  2   349.0   783.0 1261629.5815035205              0.0\n",
      "  3   675.0   787.0  1332164.893829219              0.0\n",
      "  4   570.0   622.0 1290811.6667856125              0.0\n",
      "  5  1085.0   549.0 1709858.5552241108              0.0\n",
      "  6  1237.0   558.0  1111388.562787761              0.0\n",
      "25  id xcenter ycenter    aperture_sum    aperture_sum_err\n",
      "      pix     pix          adu               adu       \n",
      "--- ------- ------- ------------------ ----------------\n",
      "  1   859.0   998.0 1338274.2265552133              0.0\n",
      "  2   349.0   783.0 1243164.7054170053              0.0\n",
      "  3   675.0   787.0 1306768.6256212168              0.0\n",
      "  4   570.0   622.0 1266166.0581726802              0.0\n",
      "  5  1085.0   549.0 1705160.3974100365              0.0\n",
      "  6  1237.0   558.0 1068841.1587391314              0.0\n",
      "26  id xcenter ycenter    aperture_sum    aperture_sum_err\n",
      "      pix     pix          adu               adu       \n",
      "--- ------- ------- ------------------ ----------------\n",
      "  1   859.0   998.0 1334625.8156849728              0.0\n",
      "  2   349.0   783.0  1237594.800158821              0.0\n",
      "  3   675.0   787.0 1305080.6996079977              0.0\n",
      "  4   570.0   622.0  1264293.450645628              0.0\n",
      "  5  1085.0   549.0 1702950.5046151709              0.0\n",
      "  6  1237.0   558.0 1059043.2124653219              0.0\n",
      "27  id xcenter ycenter    aperture_sum    aperture_sum_err\n",
      "      pix     pix          adu               adu       \n",
      "--- ------- ------- ------------------ ----------------\n",
      "  1   859.0   998.0 1320127.3928023581              0.0\n",
      "  2   349.0   783.0 1212948.5646358216              0.0\n",
      "  3   675.0   787.0 1291314.6221779222              0.0\n",
      "  4   570.0   622.0   1242551.10083641              0.0\n",
      "  5  1085.0   549.0 1819745.4022801814              0.0\n",
      "  6  1237.0   558.0 1017128.5991121896              0.0\n",
      "28  id xcenter ycenter    aperture_sum    aperture_sum_err\n",
      "      pix     pix          adu               adu       \n",
      "--- ------- ------- ------------------ ----------------\n",
      "  1   859.0   998.0 1322923.7247601945              0.0\n",
      "  2   349.0   783.0 1224134.6730547552              0.0\n",
      "  3   675.0   787.0 1292923.7894150806              0.0\n",
      "  4   570.0   622.0   1252286.83528359              0.0\n",
      "  5  1085.0   549.0 1728423.0842942817              0.0\n",
      "  6  1237.0   558.0 1041310.5627050966              0.0\n",
      "29  id xcenter ycenter    aperture_sum    aperture_sum_err\n",
      "      pix     pix          adu               adu       \n",
      "--- ------- ------- ------------------ ----------------\n",
      "  1   859.0   998.0  1327109.367797901              0.0\n",
      "  2   349.0   783.0  1223385.733619934              0.0\n",
      "  3   675.0   787.0 1293897.6535022962              0.0\n",
      "  4   570.0   622.0 1251823.7040094482              0.0\n",
      "  5  1085.0   549.0  1760886.163540625              0.0\n",
      "  6  1237.0   558.0  1039706.425107572              0.0\n"
     ]
    }
   ],
   "source": [
    "# Complete aperture photometri for each image\n",
    "phot_table=[]\n",
    "for idx, thisimage in enumerate(scim): \n",
    "    phot_table.extend([aperture_photometry(thisimage, apertures)])\n",
    "    print(idx, phot_table[idx])"
   ]
  },
  {
   "cell_type": "code",
   "execution_count": 18,
   "id": "general-basement",
   "metadata": {
    "scrolled": true
   },
   "outputs": [
    {
     "name": "stdout",
     "output_type": "stream",
     "text": [
      "0\n",
      "[0.98757614 0.98005939 0.98357678 0.98330029 0.97372238 0.97454738]\n",
      "1.0\n",
      "1\n",
      "[0.98651239 0.98224293 0.98565733 0.97739186 0.97032783 0.97642246]\n",
      "1.000423457592539\n",
      "2\n",
      "[0.99045887 0.98402532 0.98928751 0.98384922 1.02569767 0.97835184]\n",
      "1.0039752167869405\n",
      "3\n",
      "[0.99595033 0.99147411 0.99195524 0.98893348 0.98290623 0.98751612]\n",
      "1.0089750266657211\n",
      "4\n",
      "[0.99534044 0.99552066 0.99605698 0.99422229 0.98453015 0.98542779]\n",
      "1.011136030443298\n",
      "5\n",
      "[1.00038527 0.99987273 1.00443629 1.00209862 0.98919879 0.99607899]\n",
      "1.0196670282336453\n",
      "6\n",
      "[1. 1. 1. 1. 1. 1.]\n",
      "1.018664827105828\n",
      "7\n",
      "[1.00112865 0.99882906 0.99954036 0.99935131 1.03515183 0.99267857]\n",
      "1.0174641717973536\n",
      "8\n",
      "[0.99968303 0.99587369 0.99478498 0.99815831 0.9896198  0.99552857]\n",
      "1.0156232101262819\n",
      "9\n",
      "[1.00525892 1.00116427 1.00313048 1.00382803 0.98603977 0.99941427]\n",
      "1.0203782818245966\n",
      "10\n",
      "[1.00667645 1.00117957 1.00236609 1.00365677 0.9851972  0.9959834 ]\n",
      "1.0200213923443493\n",
      "11\n",
      "[1.00265403 0.99793045 1.0042149  0.99910165 0.98356565 0.99380382]\n",
      "1.017152194801946\n",
      "12\n",
      "[1.00187671 0.99769359 1.00285534 0.99814801 0.98636073 0.99282167]\n",
      "1.0165464362137988\n",
      "13\n",
      "[1.09085263 1.07269968 1.07978605 1.07709681 1.09877767 1.06028499]\n",
      "1.0966026109357088\n",
      "14\n",
      "[1.10688067 1.09003717 1.0985766  1.09274361 1.10247722 1.08262969]\n",
      "1.1145677245767485\n",
      "15\n",
      "[1.1159595  1.0864079  1.09722183 1.09675751 1.14191849 1.06517446]\n",
      "1.115463369045713\n",
      "16\n",
      "[1.11876011 1.10018297 1.10823628 1.0997591  1.14622569 1.0800429 ]\n",
      "1.1246543224607704\n",
      "17\n",
      "[1.12627145 1.09811907 1.11260012 1.09736567 1.1643187  1.06317283]\n",
      "1.1258197304452113\n",
      "18\n",
      "[1.14117634 1.11043257 1.12762631 1.11536031 1.18987975 1.07975902]\n",
      "1.1403788147893956\n",
      "19\n",
      "[1.17624313 1.15620156 1.16494631 1.15899292 1.18667386 1.13874816]\n",
      "1.1820619767383027\n",
      "20\n",
      "[1.18696946 1.165828   1.17672922 1.16905552 1.19913707 1.14203275]\n",
      "1.192962961046198\n",
      "21\n",
      "[1.19772295 1.17593503 1.19027169 1.1785228  1.22156398 1.15648124]\n",
      "1.2050035906519012\n",
      "22\n",
      "[1.0382574  1.01897264 1.03016797 1.01662158 1.09264481 0.9652748 ]\n",
      "1.0435370728770232\n",
      "23\n",
      "[1.03478597 1.00366462 1.02240134 1.00505179 1.15552221 0.93022248]\n",
      "1.0317791748217533\n",
      "24\n",
      "[1.04134344 1.0126683  1.02738944 1.01303054 1.16686333 0.92492573]\n",
      "1.038908300903266\n",
      "25\n",
      "[1.05654323 1.02770959 1.04735614 1.03274893 1.17007834 0.96174429]\n",
      "1.0575663764606493\n",
      "26\n",
      "[1.05943146 1.03233489 1.04871073 1.03427859 1.17159673 0.97064205]\n",
      "1.059780318764048\n",
      "27\n",
      "[1.07106677 1.05331118 1.05989053 1.05237655 1.09640131 1.01064101]\n",
      "1.076165097005449\n",
      "28\n",
      "[1.0688028  1.04368605 1.05857139 1.04419499 1.15433036 0.98717128]\n",
      "1.0705840343010147\n",
      "29\n",
      "[1.06543184 1.04432498 1.05777465 1.04458131 1.13304953 0.98869436]\n",
      "1.0705049755669664\n"
     ]
    }
   ],
   "source": [
    "# the reference image for the V band will be the 1stimage\n",
    "# here we are printing the counts and finding the median values\n",
    "for idx, thisimage in enumerate(scim): \n",
    "    print(idx)\n",
    "    print(phot_table[6]['aperture_sum']/phot_table[idx]['aperture_sum'])\n",
    "    print(np.ma.median(phot_table[0]['aperture_sum']/phot_table[idx]['aperture_sum']))"
   ]
  },
  {
   "cell_type": "code",
   "execution_count": 19,
   "id": "matched-florida",
   "metadata": {},
   "outputs": [
    {
     "name": "stdout",
     "output_type": "stream",
     "text": [
      "0.9816798402962046\n",
      "0.9798173943706585\n",
      "0.9866564141615429\n",
      "0.9902037944374154\n",
      "0.9947813614498613\n",
      "1.0001290040314132\n",
      "1.0\n",
      "0.9994458330694227\n",
      "0.9957011303174386\n",
      "1.0021473716676543\n",
      "1.0017728273738\n",
      "0.9985160500450633\n",
      "0.9979207990859267\n",
      "1.0784414315713455\n",
      "1.0956601054488324\n",
      "1.096989671127274\n",
      "1.1042096214187274\n",
      "1.1053595932685614\n",
      "1.1214933095634598\n",
      "1.1619696165347557\n",
      "1.1728923722270994\n",
      "1.1843972450897295\n",
      "1.0245703085142193\n",
      "1.0137265662521513\n",
      "1.0202099883420428\n",
      "1.0400525327951886\n",
      "1.0414946595259795\n",
      "1.0566008556327064\n",
      "1.0513831928330277\n",
      "1.0511779789692335\n",
      "Check garbage collection 232\n"
     ]
    }
   ],
   "source": [
    "# scaling the images to our reference images\n",
    "images = ccdproc.ImageFileCollection(\".\",glob_include = 'sproc_NGC_2808_V_*') #defines images\n",
    "scim = [CCDData.read(fn) for fn in images.files_filtered()] #reads defined images\n",
    "for idx, thisimage in enumerate(scim): \n",
    "    m = np.ma.median(phot_table[6]['aperture_sum'] / phot_table[idx]['aperture_sum'])\n",
    "    print(m)\n",
    "    scim[idx] = scim[idx].multiply(m * u.adu) \n",
    "\n",
    "sci_average = ccdproc.combine(scim, method = 'average',dtype = np.float32, \n",
    "                              minmax_clip = True, minmax_clip_min = -500) #calculating mean\n",
    "sci_average.write(\"NGC_2808_V_average.fits\")\n",
    "\n",
    "sci_median = ccdproc.combine(scim, method = 'median',dtype = np.float32, \n",
    "                             minmax_clip = True, minmax_clip_min = -500) #calculating medians \n",
    "sci_median.write(\"NGC_2808_V_median.fits\")\n",
    "\n",
    "del(scim)\n",
    "collected = gc.collect()\n",
    "print('Check garbage collection', collected)"
   ]
  },
  {
   "cell_type": "markdown",
   "id": "prime-excuse",
   "metadata": {},
   "source": [
    "### <font color=purple> _R band scale and combine_"
   ]
  },
  {
   "cell_type": "code",
   "execution_count": 20,
   "id": "heated-tuner",
   "metadata": {
    "collapsed": true
   },
   "outputs": [
    {
     "name": "stderr",
     "output_type": "stream",
     "text": [
      "INFO:astropy:using the unit adu passed to the FITS reader instead of the unit adu in the FITS file.\n",
      "INFO:astropy:using the unit adu passed to the FITS reader instead of the unit adu in the FITS file.\n",
      "INFO:astropy:using the unit adu passed to the FITS reader instead of the unit adu in the FITS file.\n"
     ]
    },
    {
     "name": "stdout",
     "output_type": "stream",
     "text": [
      "INFO: using the unit adu passed to the FITS reader instead of the unit adu in the FITS file. [astropy.nddata.ccddata]\n",
      "INFO: using the unit adu passed to the FITS reader instead of the unit adu in the FITS file. [astropy.nddata.ccddata]\n",
      "INFO: using the unit adu passed to the FITS reader instead of the unit adu in the FITS file. [astropy.nddata.ccddata]\n"
     ]
    },
    {
     "name": "stderr",
     "output_type": "stream",
     "text": [
      "INFO:astropy:using the unit adu passed to the FITS reader instead of the unit adu in the FITS file.\n",
      "INFO:astropy:using the unit adu passed to the FITS reader instead of the unit adu in the FITS file.\n",
      "INFO:astropy:using the unit adu passed to the FITS reader instead of the unit adu in the FITS file.\n"
     ]
    },
    {
     "name": "stdout",
     "output_type": "stream",
     "text": [
      "INFO: using the unit adu passed to the FITS reader instead of the unit adu in the FITS file. [astropy.nddata.ccddata]\n",
      "INFO: using the unit adu passed to the FITS reader instead of the unit adu in the FITS file. [astropy.nddata.ccddata]\n",
      "INFO: using the unit adu passed to the FITS reader instead of the unit adu in the FITS file. [astropy.nddata.ccddata]\n"
     ]
    },
    {
     "name": "stderr",
     "output_type": "stream",
     "text": [
      "INFO:astropy:using the unit adu passed to the FITS reader instead of the unit adu in the FITS file.\n",
      "INFO:astropy:using the unit adu passed to the FITS reader instead of the unit adu in the FITS file.\n",
      "INFO:astropy:using the unit adu passed to the FITS reader instead of the unit adu in the FITS file.\n"
     ]
    },
    {
     "name": "stdout",
     "output_type": "stream",
     "text": [
      "INFO: using the unit adu passed to the FITS reader instead of the unit adu in the FITS file. [astropy.nddata.ccddata]\n",
      "INFO: using the unit adu passed to the FITS reader instead of the unit adu in the FITS file. [astropy.nddata.ccddata]\n",
      "INFO: using the unit adu passed to the FITS reader instead of the unit adu in the FITS file. [astropy.nddata.ccddata]\n"
     ]
    },
    {
     "name": "stderr",
     "output_type": "stream",
     "text": [
      "INFO:astropy:using the unit adu passed to the FITS reader instead of the unit adu in the FITS file.\n",
      "INFO:astropy:using the unit adu passed to the FITS reader instead of the unit adu in the FITS file.\n",
      "INFO:astropy:using the unit adu passed to the FITS reader instead of the unit adu in the FITS file.\n"
     ]
    },
    {
     "name": "stdout",
     "output_type": "stream",
     "text": [
      "INFO: using the unit adu passed to the FITS reader instead of the unit adu in the FITS file. [astropy.nddata.ccddata]\n",
      "INFO: using the unit adu passed to the FITS reader instead of the unit adu in the FITS file. [astropy.nddata.ccddata]\n",
      "INFO: using the unit adu passed to the FITS reader instead of the unit adu in the FITS file. [astropy.nddata.ccddata]\n"
     ]
    },
    {
     "name": "stderr",
     "output_type": "stream",
     "text": [
      "INFO:astropy:using the unit adu passed to the FITS reader instead of the unit adu in the FITS file.\n",
      "INFO:astropy:using the unit adu passed to the FITS reader instead of the unit adu in the FITS file.\n",
      "INFO:astropy:using the unit adu passed to the FITS reader instead of the unit adu in the FITS file.\n"
     ]
    },
    {
     "name": "stdout",
     "output_type": "stream",
     "text": [
      "INFO: using the unit adu passed to the FITS reader instead of the unit adu in the FITS file. [astropy.nddata.ccddata]\n",
      "INFO: using the unit adu passed to the FITS reader instead of the unit adu in the FITS file. [astropy.nddata.ccddata]\n",
      "INFO: using the unit adu passed to the FITS reader instead of the unit adu in the FITS file. [astropy.nddata.ccddata]\n"
     ]
    },
    {
     "name": "stderr",
     "output_type": "stream",
     "text": [
      "INFO:astropy:using the unit adu passed to the FITS reader instead of the unit adu in the FITS file.\n",
      "INFO:astropy:using the unit adu passed to the FITS reader instead of the unit adu in the FITS file.\n",
      "INFO:astropy:using the unit adu passed to the FITS reader instead of the unit adu in the FITS file.\n"
     ]
    },
    {
     "name": "stdout",
     "output_type": "stream",
     "text": [
      "INFO: using the unit adu passed to the FITS reader instead of the unit adu in the FITS file. [astropy.nddata.ccddata]\n",
      "INFO: using the unit adu passed to the FITS reader instead of the unit adu in the FITS file. [astropy.nddata.ccddata]\n",
      "INFO: using the unit adu passed to the FITS reader instead of the unit adu in the FITS file. [astropy.nddata.ccddata]\n"
     ]
    },
    {
     "name": "stderr",
     "output_type": "stream",
     "text": [
      "INFO:astropy:using the unit adu passed to the FITS reader instead of the unit adu in the FITS file.\n",
      "INFO:astropy:using the unit adu passed to the FITS reader instead of the unit adu in the FITS file.\n",
      "INFO:astropy:using the unit adu passed to the FITS reader instead of the unit adu in the FITS file.\n"
     ]
    },
    {
     "name": "stdout",
     "output_type": "stream",
     "text": [
      "INFO: using the unit adu passed to the FITS reader instead of the unit adu in the FITS file. [astropy.nddata.ccddata]\n",
      "INFO: using the unit adu passed to the FITS reader instead of the unit adu in the FITS file. [astropy.nddata.ccddata]\n",
      "INFO: using the unit adu passed to the FITS reader instead of the unit adu in the FITS file. [astropy.nddata.ccddata]\n"
     ]
    }
   ],
   "source": [
    "# collecting processed R band images and reading into scim\n",
    "images = ccdproc.ImageFileCollection(\".\",glob_include='proc_NGC_2808_R_*')\n",
    "scim = [CCDData.read(fn, unit = \"adu\") for fn in images.files_filtered(PICTTYPE = 1)]"
   ]
  },
  {
   "cell_type": "code",
   "execution_count": 21,
   "id": "efficient-studio",
   "metadata": {},
   "outputs": [],
   "source": [
    "# define the positions of some prominent stars in the image\n",
    "positions = [(864,999), (349,784), (675,790),(570,622), (1085,559), (1229,518)]   #x-y notation\n",
    "apertures = CircularAperture(positions, r=20.0)"
   ]
  },
  {
   "cell_type": "code",
   "execution_count": 22,
   "id": "honey-dollar",
   "metadata": {},
   "outputs": [
    {
     "name": "stdout",
     "output_type": "stream",
     "text": [
      "0  id xcenter ycenter    aperture_sum    aperture_sum_err\n",
      "      pix     pix          adu               adu       \n",
      "--- ------- ------- ------------------ ----------------\n",
      "  1   864.0   999.0  1355392.642351546              0.0\n",
      "  2   349.0   784.0  1350678.035339181              0.0\n",
      "  3   675.0   790.0  1403193.311109228              0.0\n",
      "  4   570.0   622.0 1298024.2413005068              0.0\n",
      "  5  1085.0   559.0  1818662.568682152              0.0\n",
      "  6  1229.0   518.0 1164266.0465822308              0.0\n",
      "1  id xcenter ycenter    aperture_sum    aperture_sum_err\n",
      "      pix     pix          adu               adu       \n",
      "--- ------- ------- ------------------ ----------------\n",
      "  1   864.0   999.0 1359954.5659341058              0.0\n",
      "  2   349.0   784.0 1355206.6734113037              0.0\n",
      "  3   675.0   790.0    1410175.7263627              0.0\n",
      "  4   570.0   622.0 1298530.0636995472              0.0\n",
      "  5  1085.0   559.0 1820630.4071101283              0.0\n",
      "  6  1229.0   518.0  1163708.919101608              0.0\n",
      "2  id xcenter ycenter    aperture_sum    aperture_sum_err\n",
      "      pix     pix          adu               adu       \n",
      "--- ------- ------- ------------------ ----------------\n",
      "  1   864.0   999.0 1360049.9826412667              0.0\n",
      "  2   349.0   784.0  1352041.634838478              0.0\n",
      "  3   675.0   790.0 1409245.0867345878              0.0\n",
      "  4   570.0   622.0 1301723.4402976583              0.0\n",
      "  5  1085.0   559.0 1821255.6529106172              0.0\n",
      "  6  1229.0   518.0 1166694.8870241547              0.0\n",
      "3  id xcenter ycenter    aperture_sum    aperture_sum_err\n",
      "      pix     pix          adu               adu       \n",
      "--- ------- ------- ------------------ ----------------\n",
      "  1   864.0   999.0 1338076.3201945536              0.0\n",
      "  2   349.0   784.0 1334601.6188575402              0.0\n",
      "  3   675.0   790.0 1388132.0536787878              0.0\n",
      "  4   570.0   622.0 1284271.2660973575              0.0\n",
      "  5  1085.0   559.0 1803348.1571963998              0.0\n",
      "  6  1229.0   518.0 1149899.2148644766              0.0\n",
      "4  id xcenter ycenter    aperture_sum    aperture_sum_err\n",
      "      pix     pix          adu               adu       \n",
      "--- ------- ------- ------------------ ----------------\n",
      "  1   864.0   999.0 1343812.2875886057              0.0\n",
      "  2   349.0   784.0 1342598.4578147621              0.0\n",
      "  3   675.0   790.0   1396518.22884509              0.0\n",
      "  4   570.0   622.0 1289189.2330604235              0.0\n",
      "  5  1085.0   559.0 1806083.2513910085              0.0\n",
      "  6  1229.0   518.0 1154293.2853266187              0.0\n",
      "5  id xcenter ycenter    aperture_sum    aperture_sum_err\n",
      "      pix     pix          adu               adu       \n",
      "--- ------- ------- ------------------ ----------------\n",
      "  1   864.0   999.0 1335333.6944488501              0.0\n",
      "  2   349.0   784.0 1331092.8361327634              0.0\n",
      "  3   675.0   790.0 1383311.1604186222              0.0\n",
      "  4   570.0   622.0 1279066.4483046967              0.0\n",
      "  5  1085.0   559.0 1792045.3412200795              0.0\n",
      "  6  1229.0   518.0 1146259.2118989057              0.0\n",
      "6  id xcenter ycenter    aperture_sum    aperture_sum_err\n",
      "      pix     pix          adu               adu       \n",
      "--- ------- ------- ------------------ ----------------\n",
      "  1   864.0   999.0 1327128.7458755712              0.0\n",
      "  2   349.0   784.0 1329304.7513284849              0.0\n",
      "  3   675.0   790.0 1374015.2808155625              0.0\n",
      "  4   570.0   622.0 1271118.3172027916              0.0\n",
      "  5  1085.0   559.0 1781114.3178586974              0.0\n",
      "  6  1229.0   518.0  1137940.878763143              0.0\n",
      "7  id xcenter ycenter    aperture_sum    aperture_sum_err\n",
      "      pix     pix          adu               adu       \n",
      "--- ------- ------- ------------------ ----------------\n",
      "  1   864.0   999.0 1311964.7190381573              0.0\n",
      "  2   349.0   784.0 1317295.0288366673              0.0\n",
      "  3   675.0   790.0 1360816.7363526626              0.0\n",
      "  4   570.0   622.0  1257056.649322326              0.0\n",
      "  5  1085.0   559.0   1759346.97325397              0.0\n",
      "  6  1229.0   518.0 1127007.6606479287              0.0\n",
      "8  id xcenter ycenter    aperture_sum    aperture_sum_err\n",
      "      pix     pix          adu               adu       \n",
      "--- ------- ------- ------------------ ----------------\n",
      "  1   864.0   999.0 1304343.0819517747              0.0\n",
      "  2   349.0   784.0   1306812.50892971              0.0\n",
      "  3   675.0   790.0  1353849.818640367              0.0\n",
      "  4   570.0   622.0 1253545.7364204365              0.0\n",
      "  5  1085.0   559.0  1753183.705023887              0.0\n",
      "  6  1229.0   518.0 1121285.6526826671              0.0\n",
      "9  id xcenter ycenter    aperture_sum    aperture_sum_err\n",
      "      pix     pix          adu               adu       \n",
      "--- ------- ------- ------------------ ----------------\n",
      "  1   864.0   999.0 1290757.0118438592              0.0\n",
      "  2   349.0   784.0 1294071.4605442164              0.0\n",
      "  3   675.0   790.0  1344491.107518418              0.0\n",
      "  4   570.0   622.0 1238825.6857559443              0.0\n",
      "  5  1085.0   559.0 1738153.1673477427              0.0\n",
      "  6  1229.0   518.0  1110752.094382336              0.0\n",
      "10  id xcenter ycenter    aperture_sum    aperture_sum_err\n",
      "      pix     pix          adu               adu       \n",
      "--- ------- ------- ------------------ ----------------\n",
      "  1   864.0   999.0 1277124.5857240236              0.0\n",
      "  2   349.0   784.0 1277088.9537140476              0.0\n",
      "  3   675.0   790.0  1329481.165892137              0.0\n",
      "  4   570.0   622.0 1223267.1093741306              0.0\n",
      "  5  1085.0   559.0 1713976.2593746425              0.0\n",
      "  6  1229.0   518.0 1092750.7136746068              0.0\n",
      "11  id xcenter ycenter    aperture_sum    aperture_sum_err\n",
      "      pix     pix          adu               adu       \n",
      "--- ------- ------- ------------------ ----------------\n",
      "  1   864.0   999.0 1363094.2832512397              0.0\n",
      "  2   349.0   784.0 1359170.5589218615              0.0\n",
      "  3   675.0   790.0 1398576.9011927801              0.0\n",
      "  4   570.0   622.0 1325640.7199292027              0.0\n",
      "  5  1085.0   559.0 1715401.9504005823              0.0\n",
      "  6  1229.0   518.0  1225275.666999323              0.0\n",
      "12  id xcenter ycenter    aperture_sum    aperture_sum_err\n",
      "      pix     pix          adu               adu       \n",
      "--- ------- ------- ------------------ ----------------\n",
      "  1   864.0   999.0 1391138.0788095505              0.0\n",
      "  2   349.0   784.0 1385037.8542592577              0.0\n",
      "  3   675.0   790.0 1429003.0560891454              0.0\n",
      "  4   570.0   622.0 1355313.5505331466              0.0\n",
      "  5  1085.0   559.0 1719532.4137994347              0.0\n",
      "  6  1229.0   518.0 1254361.1924020895              0.0\n",
      "13  id xcenter ycenter    aperture_sum    aperture_sum_err\n",
      "      pix     pix          adu               adu       \n",
      "--- ------- ------- ------------------ ----------------\n",
      "  1   864.0   999.0 1374919.1962656388              0.0\n",
      "  2   349.0   784.0 1369028.6799614576              0.0\n",
      "  3   675.0   790.0 1415794.1296833022              0.0\n",
      "  4   570.0   622.0  1331485.049465352              0.0\n",
      "  5  1085.0   559.0  1751762.440184706              0.0\n",
      "  6  1229.0   518.0 1220306.2417302225              0.0\n",
      "14  id xcenter ycenter    aperture_sum    aperture_sum_err\n",
      "      pix     pix          adu               adu       \n",
      "--- ------- ------- ------------------ ----------------\n",
      "  1   864.0   999.0 1386432.2121708745              0.0\n",
      "  2   349.0   784.0 1377800.1923954305              0.0\n",
      "  3   675.0   790.0 1426963.1502737468              0.0\n",
      "  4   570.0   622.0 1348962.6193422666              0.0\n",
      "  5  1085.0   559.0 1738979.3122451778              0.0\n",
      "  6  1229.0   518.0 1250406.6693380089              0.0\n",
      "15  id xcenter ycenter    aperture_sum    aperture_sum_err\n",
      "      pix     pix          adu               adu       \n",
      "--- ------- ------- ------------------ ----------------\n",
      "  1   864.0   999.0 1389538.8164621335              0.0\n",
      "  2   349.0   784.0 1385765.7059122003              0.0\n",
      "  3   675.0   790.0 1436495.9309838028              0.0\n",
      "  4   570.0   622.0  1349334.875560624              0.0\n",
      "  5  1085.0   559.0 1736150.5304259174              0.0\n",
      "  6  1229.0   518.0 1251444.7586589735              0.0\n",
      "16  id xcenter ycenter    aperture_sum    aperture_sum_err\n",
      "      pix     pix          adu               adu       \n",
      "--- ------- ------- ------------------ ----------------\n",
      "  1   864.0   999.0 1377644.9966125768              0.0\n",
      "  2   349.0   784.0  1371886.253414683              0.0\n",
      "  3   675.0   790.0  1417362.326294429              0.0\n",
      "  4   570.0   622.0 1337724.5798502099              0.0\n",
      "  5  1085.0   559.0 1746883.8326918196              0.0\n",
      "  6  1229.0   518.0 1223320.9535065128              0.0\n",
      "17  id xcenter ycenter    aperture_sum    aperture_sum_err\n",
      "      pix     pix          adu               adu       \n",
      "--- ------- ------- ------------------ ----------------\n",
      "  1   864.0   999.0 1377215.4836636926              0.0\n",
      "  2   349.0   784.0 1369124.6334545854              0.0\n",
      "  3   675.0   790.0  1420729.571275177              0.0\n",
      "  4   570.0   622.0 1329092.8561911886              0.0\n",
      "  5  1085.0   559.0 1767475.1666385306              0.0\n",
      "  6  1229.0   518.0 1217772.6720870365              0.0\n",
      "18  id xcenter ycenter    aperture_sum    aperture_sum_err\n",
      "      pix     pix          adu               adu       \n",
      "--- ------- ------- ------------------ ----------------\n",
      "  1   864.0   999.0 1368188.6313610175              0.0\n",
      "  2   349.0   784.0 1368459.1276429058              0.0\n",
      "  3   675.0   790.0 1414240.8255245576              0.0\n",
      "  4   570.0   622.0 1324373.9650655517              0.0\n",
      "  5  1085.0   559.0 1751973.4759075684              0.0\n",
      "  6  1229.0   518.0 1212480.5217987397              0.0\n"
     ]
    },
    {
     "name": "stdout",
     "output_type": "stream",
     "text": [
      "19  id xcenter ycenter    aperture_sum    aperture_sum_err\n",
      "      pix     pix          adu               adu       \n",
      "--- ------- ------- ------------------ ----------------\n",
      "  1   864.0   999.0 1364942.4024412236              0.0\n",
      "  2   349.0   784.0 1365747.0059389775              0.0\n",
      "  3   675.0   790.0  1409843.945680953              0.0\n",
      "  4   570.0   622.0  1317314.656354962              0.0\n",
      "  5  1085.0   559.0 1770767.2470958293              0.0\n",
      "  6  1229.0   518.0 1201831.1626722855              0.0\n",
      "20  id xcenter ycenter    aperture_sum    aperture_sum_err\n",
      "      pix     pix          adu               adu       \n",
      "--- ------- ------- ------------------ ----------------\n",
      "  1   864.0   999.0 1375759.2980692415              0.0\n",
      "  2   349.0   784.0 1366342.2542242322              0.0\n",
      "  3   675.0   790.0  1415249.005885779              0.0\n",
      "  4   570.0   622.0  1330035.996999019              0.0\n",
      "  5  1085.0   559.0 1736387.5819133215              0.0\n",
      "  6  1229.0   518.0  1225734.517444109              0.0\n"
     ]
    }
   ],
   "source": [
    "# Complete aperture photometry for each image\n",
    "phot_table=[]\n",
    "for idx, thisimage in enumerate(scim): \n",
    "    phot_table.extend([aperture_photometry(thisimage, apertures)])\n",
    "    print(idx, phot_table[idx])"
   ]
  },
  {
   "cell_type": "code",
   "execution_count": 23,
   "id": "behind-reality",
   "metadata": {
    "collapsed": true
   },
   "outputs": [
    {
     "name": "stdout",
     "output_type": "stream",
     "text": [
      "0\n",
      "[0.97914708 0.98417589 0.97920598 0.97927163 0.97935392 0.97738904]\n",
      "1.0\n",
      "1\n",
      "[0.97586256 0.98088711 0.97435749 0.97889017 0.97829538 0.97785697]\n",
      "0.9977887429255909\n",
      "2\n",
      "[0.9757941  0.9831833  0.97500094 0.97648877 0.97795953 0.9753543 ]\n",
      "0.9975382084158841\n",
      "3\n",
      "[0.99181842 0.99603112 0.98983038 0.98975843 0.9876708  0.98960054]\n",
      "1.0114479359653137\n",
      "4\n",
      "[0.98758492 0.99009852 0.98388639 0.98598273 0.98617509 0.9858334 ]\n",
      "1.0069090608568936\n",
      "5\n",
      "[0.99385551 0.99865668 0.99327998 0.99378599 0.99390025 0.99274306]\n",
      "1.0148372867206132\n",
      "6\n",
      "[1. 1. 1. 1. 1. 1.]\n",
      "1.0212013608590742\n",
      "7\n",
      "[1.01155826 1.00911696 1.00969899 1.01118618 1.0123724  1.0097011 ]\n",
      "1.0328248298469171\n",
      "8\n",
      "[1.01746907 1.01721153 1.0148949  1.0140183  1.01593137 1.01485369]\n",
      "1.0368976729939452\n",
      "9\n",
      "[1.02817861 1.0272267  1.02195937 1.02606713 1.02471655 1.02447782]\n",
      "1.0470524794975162\n",
      "10\n",
      "[1.03915371 1.04088658 1.03349736 1.03911755 1.03917094 1.04135451]\n",
      "1.0610953598548125\n",
      "11\n",
      "[0.97361478 0.97802645 0.98243813 0.95887091 1.03830727 0.92872234]\n",
      "0.9940507852828429\n",
      "12\n",
      "[0.95398779 0.95976059 0.96152018 0.93787767 1.03581317 0.90718757]\n",
      "0.9747485206762403\n",
      "13\n",
      "[0.96524127 0.97098386 0.97049087 0.9546621  1.01675563 0.93250435]\n",
      "0.9861969503689593\n",
      "14\n",
      "[0.95722585 0.96480227 0.96289472 0.94229321 1.02422973 0.91005663]\n",
      "0.9789633965956336\n",
      "15\n",
      "[0.95508577 0.95925649 0.95650482 0.94203325 1.02589855 0.90930173]\n",
      "0.975053097025039\n",
      "16\n",
      "[0.96333145 0.96896135 0.9694171  0.95020929 1.01959517 0.93020632]\n",
      "0.9841941872493225\n",
      "17\n",
      "[0.96363188 0.97091581 0.96711951 0.95638037 1.00771674 0.93444442]\n",
      "0.985340547580102\n",
      "18\n",
      "[0.9699896  0.97138798 0.97155679 0.95978806 1.01663315 0.93852302]\n",
      "0.988826991426737\n",
      "19\n",
      "[0.97229652 0.97331698 0.97458679 0.96493143 1.00584327 0.94683922]\n",
      "0.9909850214001077\n",
      "20\n",
      "[0.96465185 0.97289295 0.97086469 0.95570219 1.0257585  0.92837467]\n",
      "0.9868658584055159\n"
     ]
    }
   ],
   "source": [
    "# the reference image for the R band will be the 1st image\n",
    "# here we are printing the counts and finding the median values\n",
    "for idx, thisimage in enumerate(scim): \n",
    "    print(idx)\n",
    "    print(phot_table[6]['aperture_sum']/phot_table[idx]['aperture_sum'])\n",
    "    print(np.ma.median(phot_table[0]['aperture_sum']/phot_table[idx]['aperture_sum']))"
   ]
  },
  {
   "cell_type": "code",
   "execution_count": 24,
   "id": "dental-hometown",
   "metadata": {},
   "outputs": [
    {
     "name": "stdout",
     "output_type": "stream",
     "text": [
      "0.9792388058340389\n",
      "0.9780761760225629\n",
      "0.9761414324416458\n",
      "0.9897944079634319\n",
      "0.9860789104576431\n",
      "0.9938207487208364\n",
      "1.0\n",
      "1.0104436441773739\n",
      "1.0154131351124702\n",
      "1.0253918407464373\n",
      "1.0391623220447546\n",
      "0.9758206149247337\n",
      "0.9568741927507591\n",
      "0.9678660695501607\n",
      "0.960060281739227\n",
      "0.9557952929721489\n",
      "0.9661463959556429\n",
      "0.9653756929570176\n",
      "0.9706887922772138\n",
      "0.9728067492840026\n",
      "0.9677582654442543\n",
      "Check garbage collection 228\n"
     ]
    }
   ],
   "source": [
    "# scaling the images to our reference images\n",
    "images = ccdproc.ImageFileCollection(\".\",glob_include = 'sproc_NGC_2808_R_*') #defines images\n",
    "scim = [CCDData.read(fn) for fn in images.files_filtered()] #reads defined images\n",
    "for idx, thisimage in enumerate(scim): \n",
    "    m = np.ma.median(phot_table[6]['aperture_sum'] / phot_table[idx]['aperture_sum'])\n",
    "    print(m)\n",
    "    scim[idx] = scim[idx].multiply(m * u.adu) \n",
    "\n",
    "sci_average = ccdproc.combine(scim, method = 'average',dtype = np.float32, \n",
    "                              minmax_clip = True, minmax_clip_min = -500) #calculating mean\n",
    "sci_average.write(\"NGC_2808_R_average.fits\")\n",
    "\n",
    "sci_median = ccdproc.combine(scim, method = 'median',dtype = np.float32, \n",
    "                             minmax_clip = True, minmax_clip_min = -500) #calculating medians \n",
    "sci_median.write(\"NGC_2808_R_median.fits\")\n",
    "\n",
    "del(scim)\n",
    "collected = gc.collect()\n",
    "print('Check garbage collection', collected)"
   ]
  },
  {
   "cell_type": "markdown",
   "id": "enhanced-piano",
   "metadata": {},
   "source": [
    "### <font color=purple> _I band_"
   ]
  },
  {
   "cell_type": "code",
   "execution_count": 25,
   "id": "guided-contract",
   "metadata": {
    "collapsed": true
   },
   "outputs": [
    {
     "name": "stderr",
     "output_type": "stream",
     "text": [
      "INFO:astropy:using the unit adu passed to the FITS reader instead of the unit adu in the FITS file.\n",
      "INFO:astropy:using the unit adu passed to the FITS reader instead of the unit adu in the FITS file.\n",
      "INFO:astropy:using the unit adu passed to the FITS reader instead of the unit adu in the FITS file.\n"
     ]
    },
    {
     "name": "stdout",
     "output_type": "stream",
     "text": [
      "INFO: using the unit adu passed to the FITS reader instead of the unit adu in the FITS file. [astropy.nddata.ccddata]\n",
      "INFO: using the unit adu passed to the FITS reader instead of the unit adu in the FITS file. [astropy.nddata.ccddata]\n",
      "INFO: using the unit adu passed to the FITS reader instead of the unit adu in the FITS file. [astropy.nddata.ccddata]\n"
     ]
    },
    {
     "name": "stderr",
     "output_type": "stream",
     "text": [
      "INFO:astropy:using the unit adu passed to the FITS reader instead of the unit adu in the FITS file.\n",
      "INFO:astropy:using the unit adu passed to the FITS reader instead of the unit adu in the FITS file.\n",
      "INFO:astropy:using the unit adu passed to the FITS reader instead of the unit adu in the FITS file.\n"
     ]
    },
    {
     "name": "stdout",
     "output_type": "stream",
     "text": [
      "INFO: using the unit adu passed to the FITS reader instead of the unit adu in the FITS file. [astropy.nddata.ccddata]\n",
      "INFO: using the unit adu passed to the FITS reader instead of the unit adu in the FITS file. [astropy.nddata.ccddata]\n",
      "INFO: using the unit adu passed to the FITS reader instead of the unit adu in the FITS file. [astropy.nddata.ccddata]\n"
     ]
    },
    {
     "name": "stderr",
     "output_type": "stream",
     "text": [
      "INFO:astropy:using the unit adu passed to the FITS reader instead of the unit adu in the FITS file.\n",
      "INFO:astropy:using the unit adu passed to the FITS reader instead of the unit adu in the FITS file.\n",
      "INFO:astropy:using the unit adu passed to the FITS reader instead of the unit adu in the FITS file.\n"
     ]
    },
    {
     "name": "stdout",
     "output_type": "stream",
     "text": [
      "INFO: using the unit adu passed to the FITS reader instead of the unit adu in the FITS file. [astropy.nddata.ccddata]\n",
      "INFO: using the unit adu passed to the FITS reader instead of the unit adu in the FITS file. [astropy.nddata.ccddata]\n",
      "INFO: using the unit adu passed to the FITS reader instead of the unit adu in the FITS file. [astropy.nddata.ccddata]\n"
     ]
    },
    {
     "name": "stderr",
     "output_type": "stream",
     "text": [
      "INFO:astropy:using the unit adu passed to the FITS reader instead of the unit adu in the FITS file.\n",
      "INFO:astropy:using the unit adu passed to the FITS reader instead of the unit adu in the FITS file.\n",
      "INFO:astropy:using the unit adu passed to the FITS reader instead of the unit adu in the FITS file.\n"
     ]
    },
    {
     "name": "stdout",
     "output_type": "stream",
     "text": [
      "INFO: using the unit adu passed to the FITS reader instead of the unit adu in the FITS file. [astropy.nddata.ccddata]\n",
      "INFO: using the unit adu passed to the FITS reader instead of the unit adu in the FITS file. [astropy.nddata.ccddata]\n",
      "INFO: using the unit adu passed to the FITS reader instead of the unit adu in the FITS file. [astropy.nddata.ccddata]\n"
     ]
    },
    {
     "name": "stderr",
     "output_type": "stream",
     "text": [
      "INFO:astropy:using the unit adu passed to the FITS reader instead of the unit adu in the FITS file.\n",
      "INFO:astropy:using the unit adu passed to the FITS reader instead of the unit adu in the FITS file.\n",
      "INFO:astropy:using the unit adu passed to the FITS reader instead of the unit adu in the FITS file.\n"
     ]
    },
    {
     "name": "stdout",
     "output_type": "stream",
     "text": [
      "INFO: using the unit adu passed to the FITS reader instead of the unit adu in the FITS file. [astropy.nddata.ccddata]\n",
      "INFO: using the unit adu passed to the FITS reader instead of the unit adu in the FITS file. [astropy.nddata.ccddata]\n",
      "INFO: using the unit adu passed to the FITS reader instead of the unit adu in the FITS file. [astropy.nddata.ccddata]\n"
     ]
    },
    {
     "name": "stderr",
     "output_type": "stream",
     "text": [
      "INFO:astropy:using the unit adu passed to the FITS reader instead of the unit adu in the FITS file.\n",
      "INFO:astropy:using the unit adu passed to the FITS reader instead of the unit adu in the FITS file.\n",
      "INFO:astropy:using the unit adu passed to the FITS reader instead of the unit adu in the FITS file.\n"
     ]
    },
    {
     "name": "stdout",
     "output_type": "stream",
     "text": [
      "INFO: using the unit adu passed to the FITS reader instead of the unit adu in the FITS file. [astropy.nddata.ccddata]\n",
      "INFO: using the unit adu passed to the FITS reader instead of the unit adu in the FITS file. [astropy.nddata.ccddata]\n",
      "INFO: using the unit adu passed to the FITS reader instead of the unit adu in the FITS file. [astropy.nddata.ccddata]\n"
     ]
    },
    {
     "name": "stderr",
     "output_type": "stream",
     "text": [
      "INFO:astropy:using the unit adu passed to the FITS reader instead of the unit adu in the FITS file.\n",
      "INFO:astropy:using the unit adu passed to the FITS reader instead of the unit adu in the FITS file.\n",
      "INFO:astropy:using the unit adu passed to the FITS reader instead of the unit adu in the FITS file.\n"
     ]
    },
    {
     "name": "stdout",
     "output_type": "stream",
     "text": [
      "INFO: using the unit adu passed to the FITS reader instead of the unit adu in the FITS file. [astropy.nddata.ccddata]\n",
      "INFO: using the unit adu passed to the FITS reader instead of the unit adu in the FITS file. [astropy.nddata.ccddata]\n",
      "INFO: using the unit adu passed to the FITS reader instead of the unit adu in the FITS file. [astropy.nddata.ccddata]\n"
     ]
    },
    {
     "name": "stderr",
     "output_type": "stream",
     "text": [
      "INFO:astropy:using the unit adu passed to the FITS reader instead of the unit adu in the FITS file.\n",
      "INFO:astropy:using the unit adu passed to the FITS reader instead of the unit adu in the FITS file.\n",
      "INFO:astropy:using the unit adu passed to the FITS reader instead of the unit adu in the FITS file.\n"
     ]
    },
    {
     "name": "stdout",
     "output_type": "stream",
     "text": [
      "INFO: using the unit adu passed to the FITS reader instead of the unit adu in the FITS file. [astropy.nddata.ccddata]\n",
      "INFO: using the unit adu passed to the FITS reader instead of the unit adu in the FITS file. [astropy.nddata.ccddata]\n",
      "INFO: using the unit adu passed to the FITS reader instead of the unit adu in the FITS file. [astropy.nddata.ccddata]\n"
     ]
    }
   ],
   "source": [
    "# collecting processed I band images and reading into scim\n",
    "images = ccdproc.ImageFileCollection(\".\",glob_include='proc_NGC_2808_I_*')\n",
    "scim = [CCDData.read(fn, unit = \"adu\") for fn in images.files_filtered(PICTTYPE = 1)]"
   ]
  },
  {
   "cell_type": "code",
   "execution_count": 26,
   "id": "creative-suicide",
   "metadata": {},
   "outputs": [],
   "source": [
    "# define the positions of some prominent stars in the image\n",
    "positions = [(347,786), (623,796), (566,639),(1083,562), (1228,515), (1262,376)]   #x-y notation\n",
    "apertures = CircularAperture(positions, r=20.0)"
   ]
  },
  {
   "cell_type": "code",
   "execution_count": 27,
   "id": "clear-transcript",
   "metadata": {
    "scrolled": true
   },
   "outputs": [
    {
     "name": "stdout",
     "output_type": "stream",
     "text": [
      "0  id xcenter ycenter    aperture_sum    aperture_sum_err\n",
      "      pix     pix          adu               adu       \n",
      "--- ------- ------- ------------------ ----------------\n",
      "  1   347.0   786.0  625917.7902492008              0.0\n",
      "  2   623.0   796.0 274346.77703536284              0.0\n",
      "  3   566.0   639.0  483476.2751650661              0.0\n",
      "  4  1083.0   562.0  672413.0636220854              0.0\n",
      "  5  1228.0   515.0  459072.7355856062              0.0\n",
      "  6  1262.0   376.0  638437.9825010813              0.0\n",
      "1  id xcenter ycenter    aperture_sum   aperture_sum_err\n",
      "      pix     pix          adu              adu       \n",
      "--- ------- ------- ----------------- ----------------\n",
      "  1   347.0   786.0  623229.099772279              0.0\n",
      "  2   623.0   796.0 275761.5499961254              0.0\n",
      "  3   566.0   639.0 487166.2469345518              0.0\n",
      "  4  1083.0   562.0 673786.7353796719              0.0\n",
      "  5  1228.0   515.0 464376.0741237472              0.0\n",
      "  6  1262.0   376.0 637084.9282684759              0.0\n",
      "2  id xcenter ycenter    aperture_sum    aperture_sum_err\n",
      "      pix     pix          adu               adu       \n",
      "--- ------- ------- ------------------ ----------------\n",
      "  1   347.0   786.0  624506.0637853139              0.0\n",
      "  2   623.0   796.0  272204.6619185592              0.0\n",
      "  3   566.0   639.0  486604.4723761516              0.0\n",
      "  4  1083.0   562.0  670149.0952128863              0.0\n",
      "  5  1228.0   515.0 460735.98992169515              0.0\n",
      "  6  1262.0   376.0   636241.076591845              0.0\n",
      "3  id xcenter ycenter    aperture_sum   aperture_sum_err\n",
      "      pix     pix          adu              adu       \n",
      "--- ------- ------- ----------------- ----------------\n",
      "  1   347.0   786.0 625701.9498508478              0.0\n",
      "  2   623.0   796.0 274480.5599199558              0.0\n",
      "  3   566.0   639.0 485461.4597092024              0.0\n",
      "  4  1083.0   562.0 673400.5937699795              0.0\n",
      "  5  1228.0   515.0 462802.2747283207              0.0\n",
      "  6  1262.0   376.0 634201.1742725396              0.0\n",
      "4  id xcenter ycenter    aperture_sum    aperture_sum_err\n",
      "      pix     pix          adu               adu       \n",
      "--- ------- ------- ------------------ ----------------\n",
      "  1   347.0   786.0  614111.7852877182              0.0\n",
      "  2   623.0   796.0  272588.1573848887              0.0\n",
      "  3   566.0   639.0 481452.25625704776              0.0\n",
      "  4  1083.0   562.0   660319.079962566              0.0\n",
      "  5  1228.0   515.0 454910.81121850794              0.0\n",
      "  6  1262.0   376.0   622868.226895482              0.0\n",
      "5  id xcenter ycenter    aperture_sum    aperture_sum_err\n",
      "      pix     pix          adu               adu       \n",
      "--- ------- ------- ------------------ ----------------\n",
      "  1   347.0   786.0  618931.5434092388              0.0\n",
      "  2   623.0   796.0 272712.48941298603              0.0\n",
      "  3   566.0   639.0 487633.32884292817              0.0\n",
      "  4  1083.0   562.0  672985.6861918354              0.0\n",
      "  5  1228.0   515.0  460018.5601700596              0.0\n",
      "  6  1262.0   376.0  634539.4643724342              0.0\n",
      "6  id xcenter ycenter    aperture_sum    aperture_sum_err\n",
      "      pix     pix          adu               adu       \n",
      "--- ------- ------- ------------------ ----------------\n",
      "  1   347.0   786.0  621582.5441660282              0.0\n",
      "  2   623.0   796.0  272683.2099500564              0.0\n",
      "  3   566.0   639.0  483742.8013576644              0.0\n",
      "  4  1083.0   562.0  670164.9441037928              0.0\n",
      "  5  1228.0   515.0 459360.96302497544              0.0\n",
      "  6  1262.0   376.0  637661.9993196471              0.0\n",
      "7  id xcenter ycenter    aperture_sum    aperture_sum_err\n",
      "      pix     pix          adu               adu       \n",
      "--- ------- ------- ------------------ ----------------\n",
      "  1   347.0   786.0   622967.845491082              0.0\n",
      "  2   623.0   796.0  272499.3729199354              0.0\n",
      "  3   566.0   639.0 483936.87142534106              0.0\n",
      "  4  1083.0   562.0  669688.3688378083              0.0\n",
      "  5  1228.0   515.0  463502.7703810582              0.0\n",
      "  6  1262.0   376.0  633276.5000043768              0.0\n",
      "8  id xcenter ycenter    aperture_sum    aperture_sum_err\n",
      "      pix     pix          adu               adu       \n",
      "--- ------- ------- ------------------ ----------------\n",
      "  1   347.0   786.0  622846.9407241268              0.0\n",
      "  2   623.0   796.0  271301.9224310022              0.0\n",
      "  3   566.0   639.0 487551.36436171056              0.0\n",
      "  4  1083.0   562.0  670018.9265013968              0.0\n",
      "  5  1228.0   515.0  461366.6751899659              0.0\n",
      "  6  1262.0   376.0   634680.969138162              0.0\n",
      "9  id xcenter ycenter    aperture_sum    aperture_sum_err\n",
      "      pix     pix          adu               adu       \n",
      "--- ------- ------- ------------------ ----------------\n",
      "  1   347.0   786.0  561529.7549837849              0.0\n",
      "  2   623.0   796.0  268771.1441502307              0.0\n",
      "  3   566.0   639.0  449485.4649222881              0.0\n",
      "  4  1083.0   562.0  605831.5239738505              0.0\n",
      "  5  1228.0   515.0 427792.62423221837              0.0\n",
      "  6  1262.0   376.0  574317.4945539599              0.0\n",
      "10  id xcenter ycenter    aperture_sum   aperture_sum_err\n",
      "      pix     pix          adu              adu       \n",
      "--- ------- ------- ----------------- ----------------\n",
      "  1   347.0   786.0 563214.8235321378              0.0\n",
      "  2   623.0   796.0 271755.5856819855              0.0\n",
      "  3   566.0   639.0 445361.3541477241              0.0\n",
      "  4  1083.0   562.0 605621.9963210344              0.0\n",
      "  5  1228.0   515.0 432622.9523088138              0.0\n",
      "  6  1262.0   376.0 580231.1809797706              0.0\n",
      "11  id xcenter ycenter    aperture_sum    aperture_sum_err\n",
      "      pix     pix          adu               adu       \n",
      "--- ------- ------- ------------------ ----------------\n",
      "  1   347.0   786.0  570631.7775642292              0.0\n",
      "  2   623.0   796.0  270147.4765204075              0.0\n",
      "  3   566.0   639.0 448398.98087143444              0.0\n",
      "  4  1083.0   562.0  614090.7814155354              0.0\n",
      "  5  1228.0   515.0 431105.31119572825              0.0\n",
      "  6  1262.0   376.0  584565.1147713824              0.0\n",
      "12  id xcenter ycenter    aperture_sum    aperture_sum_err\n",
      "      pix     pix          adu               adu       \n",
      "--- ------- ------- ------------------ ----------------\n",
      "  1   347.0   786.0   567447.839161329              0.0\n",
      "  2   623.0   796.0 270925.71379022603              0.0\n",
      "  3   566.0   639.0  449964.5086481698              0.0\n",
      "  4  1083.0   562.0   613841.912463154              0.0\n",
      "  5  1228.0   515.0  431683.2443529358              0.0\n",
      "  6  1262.0   376.0  584049.7894638516              0.0\n",
      "13  id xcenter ycenter    aperture_sum    aperture_sum_err\n",
      "      pix     pix          adu               adu       \n",
      "--- ------- ------- ------------------ ----------------\n",
      "  1   347.0   786.0  575936.5101623929              0.0\n",
      "  2   623.0   796.0 267529.96228914254              0.0\n",
      "  3   566.0   639.0 455443.15481672355              0.0\n",
      "  4  1083.0   562.0   623510.404626867              0.0\n",
      "  5  1228.0   515.0  433503.8957984952              0.0\n",
      "  6  1262.0   376.0  590614.5965845484              0.0\n",
      "14  id xcenter ycenter    aperture_sum    aperture_sum_err\n",
      "      pix     pix          adu               adu       \n",
      "--- ------- ------- ------------------ ----------------\n",
      "  1   347.0   786.0  569374.9701009997              0.0\n",
      "  2   623.0   796.0  266728.0867985312              0.0\n",
      "  3   566.0   639.0 452080.98670172715              0.0\n",
      "  4  1083.0   562.0  612855.6450467997              0.0\n",
      "  5  1228.0   515.0  431127.4624042375              0.0\n",
      "  6  1262.0   376.0  583151.2866856352              0.0\n",
      "15  id xcenter ycenter    aperture_sum    aperture_sum_err\n",
      "      pix     pix          adu               adu       \n",
      "--- ------- ------- ------------------ ----------------\n",
      "  1   347.0   786.0  567725.9691386339              0.0\n",
      "  2   623.0   796.0 267526.44733963883              0.0\n",
      "  3   566.0   639.0  448368.5192949963              0.0\n",
      "  4  1083.0   562.0  610960.1411914234              0.0\n",
      "  5  1228.0   515.0  430053.6910852771              0.0\n",
      "  6  1262.0   376.0  579455.9497601893              0.0\n",
      "16  id xcenter ycenter    aperture_sum    aperture_sum_err\n",
      "      pix     pix          adu               adu       \n",
      "--- ------- ------- ------------------ ----------------\n",
      "  1   347.0   786.0  558196.6672811187              0.0\n",
      "  2   623.0   796.0 265033.88970560406              0.0\n",
      "  3   566.0   639.0 441056.16032476025              0.0\n",
      "  4  1083.0   562.0  599028.2975763618              0.0\n",
      "  5  1228.0   515.0  421919.0673901881              0.0\n",
      "  6  1262.0   376.0  568267.2622577031              0.0\n",
      "17  id xcenter ycenter    aperture_sum    aperture_sum_err\n",
      "      pix     pix          adu               adu       \n",
      "--- ------- ------- ------------------ ----------------\n",
      "  1   347.0   786.0  564320.6532892801              0.0\n",
      "  2   623.0   796.0  267512.6414198718              0.0\n",
      "  3   566.0   639.0  447916.1785699269              0.0\n",
      "  4  1083.0   562.0  603464.0817414457              0.0\n",
      "  5  1228.0   515.0 428483.89950551756              0.0\n",
      "  6  1262.0   376.0  576937.3343137349              0.0\n",
      "18  id xcenter ycenter    aperture_sum    aperture_sum_err\n",
      "      pix     pix          adu               adu       \n",
      "--- ------- ------- ------------------ ----------------\n",
      "  1   347.0   786.0  507529.8909204537              0.0\n",
      "  2   623.0   796.0  272840.3427599814              0.0\n",
      "  3   566.0   639.0  407527.5366704628              0.0\n",
      "  4  1083.0   562.0   547607.780979498              0.0\n",
      "  5  1228.0   515.0 398874.51190140215              0.0\n",
      "  6  1262.0   376.0  520893.2955813316              0.0\n",
      "19  id xcenter ycenter    aperture_sum    aperture_sum_err\n",
      "      pix     pix          adu               adu       \n",
      "--- ------- ------- ------------------ ----------------\n",
      "  1   347.0   786.0  534077.7505990146              0.0\n",
      "  2   623.0   796.0 262813.67788027105              0.0\n",
      "  3   566.0   639.0 425513.38868220034              0.0\n",
      "  4  1083.0   562.0  575771.7525688583              0.0\n",
      "  5  1228.0   515.0 407816.05838218523              0.0\n",
      "  6  1262.0   376.0  548051.2367389015              0.0\n"
     ]
    },
    {
     "name": "stdout",
     "output_type": "stream",
     "text": [
      "20  id xcenter ycenter    aperture_sum   aperture_sum_err\n",
      "      pix     pix          adu              adu       \n",
      "--- ------- ------- ----------------- ----------------\n",
      "  1   347.0   786.0 550754.9998020094              0.0\n",
      "  2   623.0   796.0 259037.6085365598              0.0\n",
      "  3   566.0   639.0 439648.0737171119              0.0\n",
      "  4  1083.0   562.0 597804.4047619256              0.0\n",
      "  5  1228.0   515.0 415393.1478948534              0.0\n",
      "  6  1262.0   376.0 562692.4213095659              0.0\n",
      "21  id xcenter ycenter    aperture_sum    aperture_sum_err\n",
      "      pix     pix          adu               adu       \n",
      "--- ------- ------- ------------------ ----------------\n",
      "  1   347.0   786.0  542282.3118576758              0.0\n",
      "  2   623.0   796.0 258936.55894852904              0.0\n",
      "  3   566.0   639.0 430594.27707255527              0.0\n",
      "  4  1083.0   562.0  581209.9718604431              0.0\n",
      "  5  1228.0   515.0  413775.9228399392              0.0\n",
      "  6  1262.0   376.0  555957.1902380605              0.0\n",
      "22  id xcenter ycenter    aperture_sum    aperture_sum_err\n",
      "      pix     pix          adu               adu       \n",
      "--- ------- ------- ------------------ ----------------\n",
      "  1   347.0   786.0   540182.625669382              0.0\n",
      "  2   623.0   796.0 260824.20376567394              0.0\n",
      "  3   566.0   639.0 426363.63266429136              0.0\n",
      "  4  1083.0   562.0  582214.0866925812              0.0\n",
      "  5  1228.0   515.0  411318.0334184532              0.0\n",
      "  6  1262.0   376.0  551362.4586959485              0.0\n",
      "23  id xcenter ycenter    aperture_sum    aperture_sum_err\n",
      "      pix     pix          adu               adu       \n",
      "--- ------- ------- ------------------ ----------------\n",
      "  1   347.0   786.0  535565.4289791746              0.0\n",
      "  2   623.0   796.0  262865.9970071532              0.0\n",
      "  3   566.0   639.0  427522.0829024188              0.0\n",
      "  4  1083.0   562.0  575849.4059394305              0.0\n",
      "  5  1228.0   515.0 408191.68653484154              0.0\n",
      "  6  1262.0   376.0   549506.363737673              0.0\n"
     ]
    }
   ],
   "source": [
    "# Complete aperture photometri for each image\n",
    "phot_table=[]\n",
    "for idx, thisimage in enumerate(scim): \n",
    "    phot_table.extend([aperture_photometry(thisimage, apertures)])\n",
    "    print(idx, phot_table[idx])"
   ]
  },
  {
   "cell_type": "code",
   "execution_count": 28,
   "id": "everyday-specification",
   "metadata": {},
   "outputs": [
    {
     "name": "stdout",
     "output_type": "stream",
     "text": [
      "0\n",
      "[1. 1. 1. 1. 1. 1.]\n",
      "1.0\n",
      "1\n",
      "[1.00431413 0.99486958 0.99242564 0.99796127 0.98857965 1.00212382]\n",
      "0.9964154224189978\n",
      "2\n",
      "[1.00226055 1.0078695  0.99357138 1.00337831 0.99639001 1.00345295]\n",
      "1.0028194272007924\n",
      "3\n",
      "[1.00034496 0.9995126  0.99591073 0.99853352 0.9919414  1.00668054]\n",
      "0.9990230568481301\n",
      "4\n",
      "[1.01922452 1.00645156 1.00420399 1.01831536 1.00914888 1.02499687]\n",
      "1.0137321214497985\n",
      "5\n",
      "[1.01128759 1.00599271 0.99147504 0.99914913 0.99794394 1.00614385]\n",
      "1.0025709219587466\n",
      "6\n",
      "[1.00697453 1.00610073 0.99944903 1.00335458 0.99937255 1.00121692]\n",
      "1.002285747849737\n",
      "7\n",
      "[1.00473531 1.00677948 0.99904823 1.0040686  0.99044227 1.00815044]\n",
      "1.004401954621645\n",
      "8\n",
      "[1.00493034 1.01122312 0.99164172 1.00357324 0.99502795 1.00591953]\n",
      "1.0042517909016713\n",
      "9\n",
      "[1.1146654  1.02074491 1.0756216  1.10990108 1.0731198  1.11164641]\n",
      "1.092761340946332\n",
      "10\n",
      "[1.11133046 1.00953501 1.08558201 1.11028508 1.06113819 1.10031657]\n",
      "1.0929492909828944\n",
      "11\n",
      "[1.09688562 1.01554447 1.07822786 1.09497339 1.06487376 1.09215888]\n",
      "1.0851933730306216\n",
      "12\n",
      "[1.10304022 1.01262731 1.07447647 1.09541732 1.06344812 1.09312253]\n",
      "1.0837994972378846\n",
      "13\n",
      "[1.08678262 1.02548057 1.0615513  1.07843118 1.0589818  1.08097224]\n",
      "1.0699912440767445\n",
      "14\n",
      "[1.09930682 1.02856351 1.06944616 1.09718017 1.06481905 1.09480678]\n",
      "1.0821264699819184\n",
      "15\n",
      "[1.10249984 1.02549404 1.07830112 1.10058418 1.06747772 1.10178864]\n",
      "1.0894426465286886\n",
      "16\n",
      "[1.12132126 1.03513848 1.09617849 1.12250634 1.08805876 1.1234819 ]\n",
      "1.1087498742155182\n",
      "17\n",
      "[1.10915272 1.02554696 1.07939007 1.11425532 1.07138853 1.10659849]\n",
      "1.0929942793921514\n",
      "18\n",
      "[1.23326291 1.0055213  1.18636468 1.22790999 1.15092021 1.22565982]\n",
      "1.2060122490413074\n",
      "19\n",
      "[1.17196006 1.04388318 1.13621871 1.16784657 1.12568577 1.1649239 ]\n",
      "1.1505713054066915\n",
      "20\n",
      "[1.13647228 1.05910018 1.09968928 1.12480446 1.1051524  1.13461273]\n",
      "1.1149784339573638\n",
      "21\n",
      "[1.15422867 1.05951349 1.12281166 1.15691935 1.10947184 1.14835817]\n",
      "1.1355849159893572\n",
      "22\n",
      "[1.15871515 1.05184555 1.13395289 1.15492407 1.11610165 1.15792792]\n",
      "1.1444384828760532\n",
      "23\n",
      "[1.16870462 1.04367541 1.13088024 1.16768908 1.12464989 1.16183911]\n",
      "1.1463596724577925\n"
     ]
    }
   ],
   "source": [
    "# the reference image for the R band will be the 1st image\n",
    "# here we are printing the counts and finding the median values\n",
    "for idx, thisimage in enumerate(scim): \n",
    "    print(idx)\n",
    "    print(phot_table[0]['aperture_sum']/phot_table[idx]['aperture_sum'])\n",
    "    print(np.ma.median(phot_table[0]['aperture_sum']/phot_table[idx]['aperture_sum']))"
   ]
  },
  {
   "cell_type": "code",
   "execution_count": 29,
   "id": "nearby-sucking",
   "metadata": {},
   "outputs": [
    {
     "name": "stdout",
     "output_type": "stream",
     "text": [
      "0.9977205994763121\n",
      "0.9937987290655439\n",
      "0.9985196179446082\n",
      "0.9943234364559294\n",
      "1.0109738079577113\n",
      "0.9992315674081478\n",
      "1.0\n",
      "1.0001368046677932\n",
      "0.9990939514193924\n",
      "1.0912024202412547\n",
      "1.0925798311461625\n",
      "1.0840553014977417\n",
      "1.083411869759026\n",
      "1.0684810527147683\n",
      "1.0808642471333088\n",
      "1.0868796165803447\n",
      "1.1051687591794577\n",
      "1.0907277956743573\n",
      "1.2054116640994694\n",
      "1.1501765396576726\n",
      "1.113445053655943\n",
      "1.1348324279197568\n",
      "1.1426338179955549\n",
      "1.1459653099263574\n",
      "Check garbage collection 300\n"
     ]
    }
   ],
   "source": [
    "# scaling the images to our reference images\n",
    "images = ccdproc.ImageFileCollection(\".\",glob_include = 'sproc_NGC_2808_I_*') #defines images\n",
    "scim = [CCDData.read(fn) for fn in images.files_filtered()] #reads defined images\n",
    "for idx, thisimage in enumerate(scim): \n",
    "    m = np.ma.median(phot_table[6]['aperture_sum'] / phot_table[idx]['aperture_sum'])\n",
    "    print(m)\n",
    "    scim[idx] = scim[idx].multiply(m * u.adu) \n",
    "\n",
    "sci_average = ccdproc.combine(scim, method = 'average',dtype = np.float32, \n",
    "                              minmax_clip = True, minmax_clip_min = -500) #calculating mean\n",
    "sci_average.write(\"NGC_2808_I_average.fits\")\n",
    "\n",
    "sci_median = ccdproc.combine(scim, method = 'median',dtype = np.float32, \n",
    "                             minmax_clip = True, minmax_clip_min = -500) #calculating medians \n",
    "sci_median.write(\"NGC_2808_I_median.fits\")\n",
    "\n",
    "del(scim)\n",
    "collected = gc.collect()\n",
    "print('Check garbage collection', collected)"
   ]
  },
  {
   "cell_type": "code",
   "execution_count": null,
   "id": "trying-farmer",
   "metadata": {},
   "outputs": [],
   "source": []
  }
 ],
 "metadata": {
  "kernelspec": {
   "display_name": "Python 3",
   "language": "python",
   "name": "python3"
  },
  "language_info": {
   "codemirror_mode": {
    "name": "ipython",
    "version": 3
   },
   "file_extension": ".py",
   "mimetype": "text/x-python",
   "name": "python",
   "nbconvert_exporter": "python",
   "pygments_lexer": "ipython3",
   "version": "3.7.10"
  }
 },
 "nbformat": 4,
 "nbformat_minor": 5
}
